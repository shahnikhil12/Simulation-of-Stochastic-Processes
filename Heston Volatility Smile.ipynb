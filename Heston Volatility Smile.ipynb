{
 "cells": [
  {
   "cell_type": "code",
   "execution_count": 109,
   "metadata": {},
   "outputs": [],
   "source": [
    "import numpy as np\n",
    "import matplotlib.pyplot as plt\n",
    "import random\n",
    "import math\n",
    "from matplotlib.pyplot import figure\n",
    "import matplotlib.colors\n",
    "import time\n",
    "from statistics import mean\n",
    "from scipy.stats import norm\n",
    "from scipy.optimize import minimize_scalar  \n",
    "\n",
    "%matplotlib inline"
   ]
  },
  {
   "cell_type": "code",
   "execution_count": 308,
   "metadata": {},
   "outputs": [],
   "source": [
    "def correlated_BM(steps = 100, seed = 0, rho = 0.5):\n",
    "    np.random.seed(seed)\n",
    "    \n",
    "    mu = np.array([0,0])\n",
    "    cov = np.array([[1, rho], [rho, 1]])\n",
    "    \n",
    "    B = np.random.multivariate_normal(mu, cov, size = steps)\n",
    "    W = B.cumsum(axis = 0)\n",
    "\n",
    "    plt.plot(W)"
   ]
  },
  {
   "cell_type": "code",
   "execution_count": 311,
   "metadata": {},
   "outputs": [
    {
     "data": {
      "image/png": "[encoded data removed]",
      "text/plain": [
       "<Figure size 432x288 with 1 Axes>"
      ]
     },
     "metadata": {
      "needs_background": "light"
     },
     "output_type": "display_data"
    }
   ],
   "source": [
    "correlated_BM(steps = 10000, rho = -1)"
   ]
  },
  {
   "cell_type": "code",
   "execution_count": 498,
   "metadata": {},
   "outputs": [],
   "source": [
    "def heston(seed = 0, T = 1, N = 2000, S_0 = 100, V_0 = 0.5, mu = 1, theta = 4, omega = 0.02, xi = 0.9, rho = 0.9, paths = 3):\n",
    "    np.random.seed(seed)\n",
    "    dt = T/N\n",
    "    size = (paths, N)\n",
    "    \n",
    "    S = np.zeros(size)    \n",
    "    S[:, 0] = S_0\n",
    "    \n",
    "    V = np.zeros(size)\n",
    "    V[:, 0] = V_0\n",
    "    \n",
    "\n",
    "    \n",
    "    for i in range(1, N):\n",
    "        W = np.random.multivariate_normal(np.array([0,0]), np.array([[1, rho], [rho, 1]]), size = paths) * np.sqrt(dt)\n",
    "        \n",
    "        S[:, i] = S[:, i-1] * np.exp( (mu - 0.5*V[:, i-1]) * dt + np.sqrt(V[:, i-1]) * np.sqrt(dt) * W[:, 0] )\n",
    "        V[:, i] = np.abs(V[:, i-1] + theta * (omega - V[:, i-1]) * dt + xi * np.sqrt(V[:, i-1]) * W[:, 1])\n",
    "        \n",
    "    time = np.arange(0, T+dt, dt)\n",
    "    \n",
    "    \n",
    "#     plt.plot(time, S)\n",
    "\n",
    "    return S"
   ]
  },
  {
   "cell_type": "code",
   "execution_count": 457,
   "metadata": {},
   "outputs": [
    {
     "name": "stdout",
     "output_type": "stream",
     "text": [
      "[106.89638286 102.41853498  94.74702984  96.98957364 109.47673468]\n"
     ]
    }
   ],
   "source": [
    "prices = heston(T = 1, N = 10, S_0 = 100, V_0 = 0.02, mu = 0.02, theta = 4, omega = 0.02,\n",
    "          xi = 0.9, rho = 0.9, paths = 5)[:, -1]\n",
    "\n",
    "print(prices)"
   ]
  },
  {
   "cell_type": "code",
   "execution_count": 431,
   "metadata": {
    "scrolled": false
   },
   "outputs": [
    {
     "data": {
      "text/plain": [
       "67.25848614661936"
      ]
     },
     "execution_count": 431,
     "metadata": {},
     "output_type": "execute_result"
    }
   ],
   "source": [
    "np.mean(heston(T = 1, N = 200, S_0 = 100, V_0 = 0.02, mu = 0.02, theta = 4, omega = 0.02,\n",
    "          xi = 0.9, rho = 0.9, paths = 5)[:, -1] - 30) * np.exp(-0.05 * 1)"
   ]
  },
  {
   "cell_type": "code",
   "execution_count": 404,
   "metadata": {},
   "outputs": [],
   "source": [
    "def bs_call(S = 100, K = 70, T = 1, r = 0.05, sigma = 0.7):\n",
    "    d1 = (np.log(S/K) + (r + sigma**2/2) * T) / (sigma * np.sqrt(T))\n",
    "    d2 = d1 - sigma*np.sqrt(T)\n",
    "    \n",
    "    return S * norm.cdf(d1) - K * np.exp(-r * T) * norm.cdf(d2)\n",
    "    \n",
    "    "
   ]
  },
  {
   "cell_type": "code",
   "execution_count": 406,
   "metadata": {},
   "outputs": [],
   "source": [
    "def bs_put(S = 100, K = 70, T = 1, r = 0.05, sigma = 0.7):\n",
    "    d1 = (np.log(S/K) + (r + sigma**2/2) * T) / (sigma * np.sqrt(T))\n",
    "    d2 = d1 - sigma*np.sqrt(T)\n",
    "    \n",
    "    return  K * np.exp(-r * T) * norm.cdf(-d2) - S * norm.cdf(-d1)"
   ]
  },
  {
   "cell_type": "code",
   "execution_count": 407,
   "metadata": {},
   "outputs": [],
   "source": [
    "def implied_volatility(option_price = 70, S = 100, K = 80, T = 1 , r = 0.05, call = 1):\n",
    "    if call == 1:\n",
    "        def co(sigma):\n",
    "            return abs(bs_call(S, K, T, r, sigma) - option_price)\n",
    "        sigma_star = minimize_scalar(co, bounds=(0.01,6), method='bounded')\n",
    "        return sigma_star.x\n",
    "#         bounds = (0.0001, 10), method = \"bounded\"\n",
    "        \n",
    "    elif call == 0: \n",
    "        def po(sigma):\n",
    "            return abs(bs_put(S, K, T, r, sigma) - option_price)\n",
    "        sigma_star = minimize_scalar(po, bounds=(0.01,6), method='bounded')\n",
    "        return sigma_star.x\n"
   ]
  },
  {
   "cell_type": "code",
   "execution_count": 527,
   "metadata": {},
   "outputs": [
    {
     "data": {
      "text/plain": [
       "0.15525915951616"
      ]
     },
     "execution_count": 527,
     "metadata": {},
     "output_type": "execute_result"
    }
   ],
   "source": [
    "implied_volatility(option_price = 66.71739288216563, K = 30, call = 1)"
   ]
  },
  {
   "cell_type": "code",
   "execution_count": 528,
   "metadata": {},
   "outputs": [
    {
     "name": "stdout",
     "output_type": "stream",
     "text": [
      "66.71739288216563\n"
     ]
    },
    {
     "data": {
      "text/plain": [
       "0.15525915951616"
      ]
     },
     "execution_count": 528,
     "metadata": {},
     "output_type": "execute_result"
    }
   ],
   "source": [
    "prices = heston(T = 1, N = 1000, S_0 = 100, V_0 = 0.02, mu = 0.02, theta = 4, omega = 0.02,\n",
    "          xi = 0.9, rho = 0.9, paths = 4)[:, -1]\n",
    "    \n",
    "print(np.mean(prices - 30) * np.exp(-0.05 * 1))\n",
    "\n",
    "implied_volatility(option_price = np.mean(prices - 30) * np.exp(-0.05 * 1), K = 30, call = 1)"
   ]
  },
  {
   "cell_type": "code",
   "execution_count": 545,
   "metadata": {},
   "outputs": [],
   "source": [
    "def smile(lower = 1, upper = 200, step = 2, T = 1, N = 200, S_0 = 100, V_0 = 0.02, mu = 0.02, theta = 4, omega = 0.02,\n",
    "          xi = 0.9, rho = 0.9, r = 0.05, paths = 100):\n",
    "    \n",
    "    np.random.seed(0)\n",
    "    strikes = np.arange(lower, upper, step)\n",
    "    calls = []\n",
    "    puts = []\n",
    "    \n",
    "    \n",
    "    prices = heston(T = T, N = N, S_0 = S_0, V_0 = V_0, mu = mu, \n",
    "                    theta = theta, omega = omega, xi = xi, rho = rho, paths = paths)[:, -1]\n",
    "\n",
    "    for k in strikes:\n",
    "\n",
    "        calls.append(np.mean(np.maximum(prices - k , 0)) * np.exp(-r * T))\n",
    "        puts.append(np.mean(np.maximum(k - prices, 0)) * np.exp(-r * T))\n",
    "        \n",
    "        \n",
    "\n",
    "    # print(vals)\n",
    "    call_ivs = [implied_volatility(option_price = C, S = S_0, K = k, T = T, r = r , call = 1) for C, k in zip(calls, strikes)]\n",
    "    put_ivs = [implied_volatility(option_price = P, S = S_0, K = k, T = T, r = r, call = 0) for P, k in zip(puts, strikes)]\n",
    "    # print(ivs)\n",
    "    \n",
    "\n",
    "    plt.plot(strikes, call_ivs, label = \"IV Calls\")\n",
    "    plt.plot(strikes, put_ivs, label = \"IV Puts\")\n",
    "    plt.legend()\n",
    "    plt.axvline(S_0, color='black',linestyle='--',\n",
    "            label='Spot Price')\n",
    "    plt.xlabel(\"Strike Price\")\n",
    "    plt.ylabel(\"Implied Volatility\")\n",
    "    plt.title('Implied Volatility Smile from Heston Model')"
   ]
  },
  {
   "cell_type": "code",
   "execution_count": 546,
   "metadata": {
    "scrolled": false
   },
   "outputs": [
    {
     "data": {
      "image/png": "[encoded data removed]",
      "text/plain": [
       "<Figure size 432x288 with 1 Axes>"
      ]
     },
     "metadata": {
      "needs_background": "light"
     },
     "output_type": "display_data"
    }
   ],
   "source": [
    "smile(lower = 20, upper = 180, step = 5, T = 1, N = 252, S_0 = 100, V_0 = 0.0625, mu = 0.02, theta = 3, omega = 0.04,\n",
    "          xi = 0.9, rho = 0.7, r = 0.02, paths = 1000)"
   ]
  }
 ],
 "metadata": {
  "kernelspec": {
   "display_name": "Python 3",
   "language": "python",
   "name": "python3"
  },
  "language_info": {
   "codemirror_mode": {
    "name": "ipython",
    "version": 3
   },
   "file_extension": ".py",
   "mimetype": "text/x-python",
   "name": "python",
   "nbconvert_exporter": "python",
   "pygments_lexer": "ipython3",
   "version": "3.7.6"
  }
 },
 "nbformat": 4,
 "nbformat_minor": 4
}
