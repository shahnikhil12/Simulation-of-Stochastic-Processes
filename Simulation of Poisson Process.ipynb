{
 "cells": [
  {
   "cell_type": "code",
   "execution_count": 12,
   "metadata": {},
   "outputs": [],
   "source": [
    "import numpy as np\n",
    "import matplotlib.pyplot as plt\n",
    "import random\n",
    "import math\n",
    "from matplotlib.pyplot import figure\n",
    "from scipy.stats import poisson\n",
    "import pandas as pd\n",
    "%matplotlib inline"
   ]
  },
  {
   "cell_type": "code",
   "execution_count": 130,
   "metadata": {},
   "outputs": [],
   "source": [
    "def poisson_process_v1(seed = 0, T = 1, N = 100, rate = 10, X_0 = 0, paths = 1):\n",
    "    #Idea: binomial approximation\n",
    "    \n",
    "    np.random.seed(seed)\n",
    "    dt = T/N\n",
    "    size = (paths, N+1)\n",
    "    \n",
    "    X = np.zeros(size)\n",
    "    \n",
    "    \n",
    "    \n",
    "    X = np.random.rand(size[0], size[1])\n",
    "    \n",
    "    \n",
    "    for j in range(paths):    \n",
    "        for i in range(1, N):\n",
    "            if X[j, i] <= rate * dt:\n",
    "                X[j, i] = 1\n",
    "\n",
    "            else:\n",
    "                X[j, i] = 0\n",
    "    \n",
    "\n",
    "    \n",
    "    X[:, 0] = X_0\n",
    "    \n",
    "    X = np.cumsum(X, axis = 1)\n",
    "#     print(X)\n",
    "    time = np.arange(0, T + dt, dt)\n",
    "    for i in range(paths):\n",
    "        plt.plot(time, X[i, :], marker='o', drawstyle='steps-post')"
   ]
  },
  {
   "cell_type": "code",
   "execution_count": 132,
   "metadata": {},
   "outputs": [
    {
     "data": {
      "image/png": "[encoded data removed]",
      "text/plain": [
       "<Figure size 432x288 with 1 Axes>"
      ]
     },
     "metadata": {
      "needs_background": "light"
     },
     "output_type": "display_data"
    }
   ],
   "source": [
    "poisson_process_v1(T = 1, N = 1000, X_0 = 0, rate = 1, paths = 5)"
   ]
  },
  {
   "cell_type": "code",
   "execution_count": 128,
   "metadata": {},
   "outputs": [],
   "source": [
    "def poisson_process_v2(seed = 0, X_0 = 0, lam = 3, events = 5, paths = 3):\n",
    "    #Idea: Model via Inter-Arrival Times\n",
    "    \n",
    "    np.random.seed(seed)\n",
    "    \n",
    "    interarrival_periods = - np.log(1 - np.random.rand(paths, events+1) ) / lam\n",
    "    \n",
    "    interarrival_periods[:, 0] = X_0\n",
    "    \n",
    "    jump_time = interarrival_periods.cumsum(axis = 1)\n",
    "        \n",
    "    jump_chain = np.arange(0, events+1, 1)\n",
    "\n",
    "    \n",
    "    for i in range(paths):\n",
    "        plt.plot(jump_time[i, :], jump_chain, marker='o', drawstyle='steps-post')"
   ]
  },
  {
   "cell_type": "code",
   "execution_count": 133,
   "metadata": {},
   "outputs": [
    {
     "data": {
      "image/png": "[encoded data removed]",
      "text/plain": [
       "<Figure size 432x288 with 1 Axes>"
      ]
     },
     "metadata": {
      "needs_background": "light"
     },
     "output_type": "display_data"
    }
   ],
   "source": [
    "poisson_process_v2(lam = 1, events = 10, paths = 3)"
   ]
  }
 ],
 "metadata": {
  "kernelspec": {
   "display_name": "Python 3",
   "language": "python",
   "name": "python3"
  },
  "language_info": {
   "codemirror_mode": {
    "name": "ipython",
    "version": 3
   },
   "file_extension": ".py",
   "mimetype": "text/x-python",
   "name": "python",
   "nbconvert_exporter": "python",
   "pygments_lexer": "ipython3",
   "version": "3.7.6"
  }
 },
 "nbformat": 4,
 "nbformat_minor": 4
}
